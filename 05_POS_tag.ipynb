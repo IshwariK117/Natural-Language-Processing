{
 "cells": [
  {
   "cell_type": "code",
   "execution_count": 3,
   "id": "4ebf5984-4032-409c-ad74-a14e313a39a8",
   "metadata": {},
   "outputs": [],
   "source": [
    "import spacy\n",
    "nlp=spacy.load('en_core_web_sm')"
   ]
  },
  {
   "cell_type": "code",
   "execution_count": 9,
   "id": "db6a2f61-757d-49f1-b135-56781e48bf21",
   "metadata": {},
   "outputs": [
    {
     "name": "stdout",
     "output_type": "stream",
     "text": [
      "ELon | PROPN\n",
      "flew | VERB\n",
      "to | ADP\n",
      "mars | NOUN\n",
      "yesterday | NOUN\n",
      ".he | PUNCT\n",
      "carried | VERB\n",
      "biryani | ADJ\n",
      "masala | NOUN\n",
      "with | ADP\n",
      "him | PRON\n"
     ]
    }
   ],
   "source": [
    "doc=nlp(\"ELon flew to mars yesterday .he carried biryani masala with him\")\n",
    "for token in doc:\n",
    "    print(token,\"|\",token.pos_)"
   ]
  },
  {
   "cell_type": "code",
   "execution_count": 11,
   "id": "0ba99ca4-fab1-4fe6-91ff-df634feaa043",
   "metadata": {},
   "outputs": [
    {
     "data": {
      "text/plain": [
       "['tok2vec', 'tagger', 'parser', 'attribute_ruler', 'lemmatizer', 'ner']"
      ]
     },
     "execution_count": 11,
     "metadata": {},
     "output_type": "execute_result"
    }
   ],
   "source": [
    "nlp.pipe_names"
   ]
  },
  {
   "cell_type": "code",
   "execution_count": 19,
   "id": "6fc50e25-ded2-464a-8fb5-ce87dd0efe32",
   "metadata": {},
   "outputs": [
    {
     "name": "stdout",
     "output_type": "stream",
     "text": [
      "Wow | INTJ interjection | UH\n",
      "! | PROPN proper noun | NNP\n",
      "Dr.strange | PROPN proper noun | NNP\n",
      "make | VERB verb | VBP\n",
      "265 | NUM numeral | CD\n",
      "million | NUM numeral | CD\n",
      "$ | NUM numeral | CD\n",
      "on | ADP adposition | IN\n",
      "the | DET determiner | DT\n",
      "very | ADV adverb | RB\n",
      "first | ADJ adjective | JJ\n",
      "day | NOUN noun | NN\n"
     ]
    }
   ],
   "source": [
    "doc=nlp(\"Wow! Dr.strange make 265 million $ on the very first day\")\n",
    "for token in doc:\n",
    "    print(token,\"|\",token.pos_,spacy.explain(token.pos_), \"|\",token.tag_)"
   ]
  },
  {
   "cell_type": "code",
   "execution_count": 25,
   "id": "16b1fd88-a0df-4922-a581-9398b0392b38",
   "metadata": {},
   "outputs": [
    {
     "name": "stdout",
     "output_type": "stream",
     "text": [
      "Wow | INTJ interjection | UH  |  interjection\n",
      "! | PROPN proper noun | NNP  |  noun, proper singular\n",
      "Dr.strange | PROPN proper noun | NNP  |  noun, proper singular\n",
      "make | VERB verb | VBP  |  verb, non-3rd person singular present\n",
      "265 | NUM numeral | CD  |  cardinal number\n",
      "million | NUM numeral | CD  |  cardinal number\n",
      "$ | NUM numeral | CD  |  cardinal number\n",
      "on | ADP adposition | IN  |  conjunction, subordinating or preposition\n",
      "the | DET determiner | DT  |  determiner\n",
      "very | ADV adverb | RB  |  adverb\n",
      "first | ADJ adjective | JJ  |  adjective (English), other noun-modifier (Chinese)\n",
      "day | NOUN noun | NN  |  noun, singular or mass\n"
     ]
    }
   ],
   "source": [
    "doc=nlp(\"Wow! Dr.strange make 265 million $ on the very first day\")\n",
    "for token in doc:\n",
    "    print(token,\"|\",token.pos_,spacy.explain(token.pos_), \"|\",token.tag_,\" | \",spacy.explain(token.tag_))"
   ]
  },
  {
   "cell_type": "code",
   "execution_count": null,
   "id": "66d95b6c-61ff-4950-bbee-489eebcd90cc",
   "metadata": {},
   "outputs": [],
   "source": []
  }
 ],
 "metadata": {
  "kernelspec": {
   "display_name": "Python 3 (ipykernel)",
   "language": "python",
   "name": "python3"
  },
  "language_info": {
   "codemirror_mode": {
    "name": "ipython",
    "version": 3
   },
   "file_extension": ".py",
   "mimetype": "text/x-python",
   "name": "python",
   "nbconvert_exporter": "python",
   "pygments_lexer": "ipython3",
   "version": "3.12.4"
  }
 },
 "nbformat": 4,
 "nbformat_minor": 5
}
