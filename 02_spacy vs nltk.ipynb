{
 "cells": [
  {
   "cell_type": "code",
   "execution_count": 1,
   "id": "2d285e80-72f9-48dc-816d-1cb7a37208a0",
   "metadata": {},
   "outputs": [],
   "source": [
    "\n",
    "import spacy\n",
    "\n",
    "# Load the English model\n",
    "nlp = spacy.load('en_core_web_sm')\n",
    "#It refers to the small English model provided by spaCy."
   ]
  },
  {
   "cell_type": "code",
   "execution_count": 24,
   "id": "7b93481d-a9f6-484b-8549-bff40ae145db",
   "metadata": {
    "scrolled": true
   },
   "outputs": [
    {
     "name": "stdout",
     "output_type": "stream",
     "text": [
      "Dr. Strange loves pav bhaji of Mumbai.\n",
      "Hulk loves.\n",
      "Hulk loves chat of Delhi.\n"
     ]
    }
   ],
   "source": [
    "doc = nlp(\"Dr. Strange loves pav bhaji of Mumbai. Hulk loves.Hulk loves chat of Delhi.\")\n",
    "\n",
    "#sentence tokenization\n",
    "for sentence in doc.sents:\n",
    "    print(sentence.text)\n"
   ]
  },
  {
   "cell_type": "code",
   "execution_count": 20,
   "id": "140a0c12-8f5a-4d70-802e-a2954961b50d",
   "metadata": {},
   "outputs": [
    {
     "name": "stdout",
     "output_type": "stream",
     "text": [
      "Dr.\n",
      "Strange\n",
      "loves\n",
      "pav\n",
      "bhaji\n",
      "of\n",
      "Mumbai\n",
      ".\n",
      "Hulk\n",
      "loves\n",
      ".\n",
      "Hulk\n",
      "loves\n",
      "chat\n",
      "of\n",
      "Delhi\n",
      ".\n"
     ]
    }
   ],
   "source": [
    "#word_tokenization\n",
    "for sentence in doc.sents:\n",
    "    for word in sentence:\n",
    "        print(word)"
   ]
  },
  {
   "cell_type": "markdown",
   "id": "9d4051bb-4a41-493d-8a0c-ef28d759ddf3",
   "metadata": {},
   "source": [
    "### Lets do same think using nltk"
   ]
  },
  {
   "cell_type": "code",
   "execution_count": 5,
   "id": "5812d57e-7990-42c1-a01e-9947d971836c",
   "metadata": {
    "scrolled": true
   },
   "outputs": [],
   "source": [
    "import nltk"
   ]
  },
  {
   "cell_type": "markdown",
   "id": "05f2bdcb-375d-464e-8387-167618183015",
   "metadata": {},
   "source": [
    "#### Sentence Tokenize"
   ]
  },
  {
   "cell_type": "code",
   "execution_count": 28,
   "id": "aca06120-dd9d-476c-8e91-5a8feeece462",
   "metadata": {},
   "outputs": [
    {
     "data": {
      "text/plain": [
       "['Dr.',\n",
       " 'Strange loves pav bhaji of Mumbai.',\n",
       " 'Hulk loves.Hulk loves chat of Delhi.']"
      ]
     },
     "execution_count": 28,
     "metadata": {},
     "output_type": "execute_result"
    }
   ],
   "source": [
    "from nltk.tokenize import sent_tokenize\n",
    "\n",
    "sent_tokenize(\"Dr. Strange loves pav bhaji of Mumbai. Hulk loves.Hulk loves chat of Delhi.\")\n"
   ]
  },
  {
   "cell_type": "markdown",
   "id": "80e65c9e-0e3d-4433-a425-05f6eb01b2c0",
   "metadata": {},
   "source": [
    "#### Word tokenize"
   ]
  },
  {
   "cell_type": "code",
   "execution_count": 9,
   "id": "3346c62e-edd3-4dd6-bab0-9de46b3e0434",
   "metadata": {},
   "outputs": [
    {
     "data": {
      "text/plain": [
       "['Dr',\n",
       " '.',\n",
       " 'Strange',\n",
       " 'loves',\n",
       " 'pav',\n",
       " 'bhaji',\n",
       " 'of',\n",
       " 'Mumbai',\n",
       " '.',\n",
       " 'Hulk',\n",
       " 'loves',\n",
       " 'chaat',\n",
       " 'of',\n",
       " 'Delhi',\n",
       " '.']"
      ]
     },
     "execution_count": 9,
     "metadata": {},
     "output_type": "execute_result"
    }
   ],
   "source": [
    "from nltk.tokenize import word_tokenize\n",
    "\n",
    "word_tokenize(\"Dr. Strange loves pav bhaji of Mumbai. Hulk loves chaat of Delhi.\")\n"
   ]
  }
 ],
 "metadata": {
  "kernelspec": {
   "display_name": "Python 3 (ipykernel)",
   "language": "python",
   "name": "python3"
  },
  "language_info": {
   "codemirror_mode": {
    "name": "ipython",
    "version": 3
   },
   "file_extension": ".py",
   "mimetype": "text/x-python",
   "name": "python",
   "nbconvert_exporter": "python",
   "pygments_lexer": "ipython3",
   "version": "3.12.4"
  }
 },
 "nbformat": 4,
 "nbformat_minor": 5
}
