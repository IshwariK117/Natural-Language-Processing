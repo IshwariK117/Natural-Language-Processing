{
 "cells": [
  {
   "cell_type": "markdown",
   "id": "aad8be8f-2cc2-4066-a94b-5a93e31c4c58",
   "metadata": {},
   "source": [
    "#### Label_Encoding"
   ]
  },
  {
   "cell_type": "code",
   "execution_count": 8,
   "id": "a2dfb1fa-be02-4cbc-bd60-074b02a13d1a",
   "metadata": {},
   "outputs": [
    {
     "name": "stdout",
     "output_type": "stream",
     "text": [
      "[2 1 0 3]\n"
     ]
    }
   ],
   "source": [
    "from sklearn.preprocessing import LabelEncoder\n",
    "colors=['red','green','blue','yellow']\n",
    "label_encoder=LabelEncoder()\n",
    "labels=label_encoder.fit_transform(colors)\n",
    "print(labels)"
   ]
  },
  {
   "cell_type": "markdown",
   "id": "586d90fa-b8c9-4aa1-a478-aa8019e05e41",
   "metadata": {},
   "source": [
    "#### One hot Encoding"
   ]
  },
  {
   "cell_type": "code",
   "execution_count": 20,
   "id": "a864ba41-6e81-47ab-8bae-b9cef0c4f737",
   "metadata": {},
   "outputs": [
    {
     "name": "stdout",
     "output_type": "stream",
     "text": [
      "[[0. 0. 1. 0.]\n",
      " [0. 1. 0. 0.]\n",
      " [1. 0. 0. 0.]\n",
      " [0. 0. 0. 1.]]\n"
     ]
    }
   ],
   "source": [
    "from sklearn.preprocessing import OneHotEncoder\n",
    "import numpy as np\n",
    "\n",
    "colors=np.array(['red','green','blue','yellow']).reshape(-1,1)\n",
    "one_encoder=OneHotEncoder()\n",
    "encoded=one_encoder.fit_transform(colors).toarray()\n",
    "print(encoded)"
   ]
  },
  {
   "cell_type": "markdown",
   "id": "e4f4c5f7-e510-430d-b3c2-629b6d144b97",
   "metadata": {},
   "source": [
    "#### using get_dummies()"
   ]
  },
  {
   "cell_type": "code",
   "execution_count": 23,
   "id": "2e9e1cd1-6648-4d05-a92b-b9f1a966e1d3",
   "metadata": {},
   "outputs": [
    {
     "name": "stdout",
     "output_type": "stream",
     "text": [
      "    Blue  Green    Red\n",
      "0  False  False   True\n",
      "1   True  False  False\n",
      "2  False   True  False\n",
      "3  False  False   True\n",
      "4   True  False  False\n"
     ]
    }
   ],
   "source": [
    "import pandas as pd\n",
    "df = pd.DataFrame({'Color': ['Red', 'Blue', 'Green', 'Red', 'Blue']})\n",
    "encoded_df = pd.get_dummies(df['Color'])\n",
    "\n",
    "# Print encoded data\n",
    "print(encoded_df)\n"
   ]
  }
 ],
 "metadata": {
  "kernelspec": {
   "display_name": "Python 3 (ipykernel)",
   "language": "python",
   "name": "python3"
  },
  "language_info": {
   "codemirror_mode": {
    "name": "ipython",
    "version": 3
   },
   "file_extension": ".py",
   "mimetype": "text/x-python",
   "name": "python",
   "nbconvert_exporter": "python",
   "pygments_lexer": "ipython3",
   "version": "3.12.4"
  }
 },
 "nbformat": 4,
 "nbformat_minor": 5
}
