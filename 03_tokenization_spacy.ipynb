{
 "cells": [
  {
   "cell_type": "code",
   "execution_count": 22,
   "id": "61b6e334-57ee-4f29-95de-e47ec25baed2",
   "metadata": {},
   "outputs": [],
   "source": [
    "import spacy\n",
    "nlp=spacy.blank(\"en\")"
   ]
  },
  {
   "cell_type": "code",
   "execution_count": 23,
   "id": "6917a799-112d-4845-9226-070dfa148549",
   "metadata": {},
   "outputs": [],
   "source": [
    "doc=nlp(\"Dr.strange loves pav bhaji pf mumbai as it is cost only 25$ per plate\")\n"
   ]
  },
  {
   "cell_type": "code",
   "execution_count": 26,
   "id": "f4a677bc-c2fe-45fd-90de-59b2d827ebfd",
   "metadata": {},
   "outputs": [
    {
     "name": "stdout",
     "output_type": "stream",
     "text": [
      "Dr.strange\n",
      "loves\n",
      "pav\n",
      "bhaji\n",
      "pf\n",
      "mumbai\n",
      "as\n",
      "it\n",
      "is\n",
      "cost\n",
      "only\n",
      "25\n",
      "$\n",
      "per\n",
      "plate\n"
     ]
    }
   ],
   "source": [
    "for token in doc:\n",
    "    print(token)"
   ]
  },
  {
   "cell_type": "code",
   "execution_count": 28,
   "id": "0e82544c-d4d7-4d9d-b7a0-5769d73784f4",
   "metadata": {},
   "outputs": [
    {
     "data": {
      "text/plain": [
       "spacy.lang.en.English"
      ]
     },
     "execution_count": 28,
     "metadata": {},
     "output_type": "execute_result"
    }
   ],
   "source": [
    "type(nlp)"
   ]
  },
  {
   "cell_type": "code",
   "execution_count": 30,
   "id": "97df9721-3d85-4b3c-a0f9-a7a87bfa7933",
   "metadata": {},
   "outputs": [
    {
     "data": {
      "text/plain": [
       "spacy.tokens.doc.Doc"
      ]
     },
     "execution_count": 30,
     "metadata": {},
     "output_type": "execute_result"
    }
   ],
   "source": [
    "type(doc)"
   ]
  },
  {
   "cell_type": "code",
   "execution_count": 42,
   "id": "ea9c60d1-3080-426a-b5b9-610ee0c18322",
   "metadata": {},
   "outputs": [],
   "source": [
    "doc=nlp(\"tony gave  two $ to peter\")"
   ]
  },
  {
   "cell_type": "code",
   "execution_count": 46,
   "id": "32bd45fa-d442-4ac6-a06b-c90086a425ee",
   "metadata": {},
   "outputs": [
    {
     "data": {
      "text/plain": [
       "tony"
      ]
     },
     "execution_count": 46,
     "metadata": {},
     "output_type": "execute_result"
    }
   ],
   "source": [
    "token0=doc[0]\n",
    "token0"
   ]
  },
  {
   "cell_type": "markdown",
   "id": "6547411a-0300-43f5-9741-6aff38d320f3",
   "metadata": {},
   "source": [
    "#### TOken attribute"
   ]
  },
  {
   "cell_type": "code",
   "execution_count": 48,
   "id": "97d9a405-d216-45e2-a615-2e027b6dff4c",
   "metadata": {},
   "outputs": [
    {
     "data": {
      "text/plain": [
       "True"
      ]
     },
     "execution_count": 48,
     "metadata": {},
     "output_type": "execute_result"
    }
   ],
   "source": [
    "token0.is_alpha"
   ]
  },
  {
   "cell_type": "code",
   "execution_count": 50,
   "id": "a97ad777-b819-435c-bf6e-587156d0bf5f",
   "metadata": {},
   "outputs": [
    {
     "data": {
      "text/plain": [
       "False"
      ]
     },
     "execution_count": 50,
     "metadata": {},
     "output_type": "execute_result"
    }
   ],
   "source": [
    "token0.like_num"
   ]
  }
 ],
 "metadata": {
  "kernelspec": {
   "display_name": "Python 3 (ipykernel)",
   "language": "python",
   "name": "python3"
  },
  "language_info": {
   "codemirror_mode": {
    "name": "ipython",
    "version": 3
   },
   "file_extension": ".py",
   "mimetype": "text/x-python",
   "name": "python",
   "nbconvert_exporter": "python",
   "pygments_lexer": "ipython3",
   "version": "3.12.4"
  }
 },
 "nbformat": 4,
 "nbformat_minor": 5
}
