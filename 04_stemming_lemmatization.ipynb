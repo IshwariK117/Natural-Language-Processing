{
 "cells": [
  {
   "cell_type": "code",
   "execution_count": 40,
   "id": "bdfa5aa1-b9a6-4c8d-9ef3-f637c7d7e289",
   "metadata": {},
   "outputs": [],
   "source": [
    "import nltk"
   ]
  },
  {
   "cell_type": "markdown",
   "id": "d086f66d-26cf-4cbd-8eb6-13e834ed5777",
   "metadata": {},
   "source": [
    "## Stemming"
   ]
  },
  {
   "cell_type": "code",
   "execution_count": 42,
   "id": "2dc8f433-6caa-450b-94ca-ade2574f9b6d",
   "metadata": {},
   "outputs": [],
   "source": [
    "from nltk.stem import PorterStemmer\n",
    "stemmer=PorterStemmer()"
   ]
  },
  {
   "cell_type": "code",
   "execution_count": 43,
   "id": "c2f805a3-47e6-45c5-8096-aa2a5a7beef0",
   "metadata": {},
   "outputs": [
    {
     "name": "stdout",
     "output_type": "stream",
     "text": [
      "eating | eat\n",
      "eats | eat\n",
      "eat | eat\n",
      "adjustable | adjust\n",
      "rating | rate\n",
      "ability | abil\n",
      "meeting | meet\n"
     ]
    }
   ],
   "source": [
    "words=['eating','eats','eat','adjustable','rating','ability','meeting']\n",
    "\n",
    "for word in words:\n",
    "    print(word,\"|\",stemmer.stem(word))"
   ]
  },
  {
   "cell_type": "markdown",
   "id": "4611dba4-c6aa-4235-a37f-42ee2fcc2fce",
   "metadata": {},
   "source": [
    "## Lemmatization"
   ]
  },
  {
   "cell_type": "code",
   "execution_count": 45,
   "id": "9fe0c4f8-d2dd-4bcf-85ac-f4842c58260a",
   "metadata": {},
   "outputs": [],
   "source": [
    "\n",
    "import spacy\n",
    "\n",
    "# Load the English model\n",
    "nlp = spacy.load('en_core_web_sm')"
   ]
  },
  {
   "cell_type": "code",
   "execution_count": 46,
   "id": "683ca522-0f31-40a8-b1fd-af8d82588c58",
   "metadata": {},
   "outputs": [
    {
     "name": "stdout",
     "output_type": "stream",
     "text": [
      "eating  | eat\n",
      "eats  | eat\n",
      "eat  | eat\n",
      "ate  | eat\n",
      "adjustable  | adjustable\n",
      "rating  | rating\n",
      "ability  | ability\n",
      "meeting  | meeting\n",
      "better  | well\n"
     ]
    }
   ],
   "source": [
    "doc=nlp(\"eating eats eat ate adjustable rating ability meeting better\")\n",
    "\n",
    "for token in doc:\n",
    "    print(token,\" |\",token.lemma_)"
   ]
  },
  {
   "cell_type": "code",
   "execution_count": 47,
   "id": "a4c3ba14-2762-4e8c-95a6-b38f70869ce0",
   "metadata": {},
   "outputs": [
    {
     "name": "stdout",
     "output_type": "stream",
     "text": [
      "bro  | bro\n",
      ",  | ,\n",
      "you  | you\n",
      "wanna  | wanna\n",
      "go?,Brah  | go?,Brah\n",
      ",  | ,\n",
      "don't  | don't\n",
      "say  | say\n",
      "no  | no\n",
      "!  | !\n",
      "I  | I\n",
      "am  | be\n",
      "exhausted  | exhaust\n"
     ]
    }
   ],
   "source": [
    "doc=nlp(\"bro,you wanna go?,Brah,don't say no! I am exhausted\")\n",
    "for token in doc:\n",
    "    print(token,\" |\",token.lemma_)"
   ]
  },
  {
   "cell_type": "code",
   "execution_count": 54,
   "id": "d2e33f3d-4072-4919-9b68-dbdb168d8100",
   "metadata": {},
   "outputs": [
    {
     "name": "stdout",
     "output_type": "stream",
     "text": [
      "bro | Brother\n",
      ", | ,\n",
      "you | you\n",
      "wanna | wanna\n",
      "go | go\n",
      "? | ?\n",
      "Brah | Brother\n",
      ", | ,\n",
      "do | do\n",
      "n't | not\n",
      "say | say\n",
      "no | no\n",
      "! | !\n",
      "I | I\n",
      "am | be\n",
      "exhausted | exhaust\n"
     ]
    }
   ],
   "source": [
    "import spacy\n",
    "from spacy.pipeline import AttributeRuler\n",
    "\n",
    "# Load the spaCy model\n",
    "nlp = spacy.load('en_core_web_sm')\n",
    "\n",
    "# Get the AttributeRuler component\n",
    "ar = nlp.get_pipe('attribute_ruler')\n",
    "\n",
    "# Add custom lemmatization rules\n",
    "ar.add([[{\"TEXT\": \"bro\"}], [{\"TEXT\": \"Brah\"}]], {\"LEMMA\": \"Brother\"})\n",
    "\n",
    "# Process the text\n",
    "doc = nlp(\"bro, you wanna go? Brah, don't say no! I am exhausted\")\n",
    "\n",
    "# Print tokens and their lemmas\n",
    "for token in doc:\n",
    "    print(token.text, \"|\", token.lemma_)\n"
   ]
  },
  {
   "cell_type": "code",
   "execution_count": 38,
   "id": "90751fec-b85b-45f3-83e9-a4976dda2e89",
   "metadata": {},
   "outputs": [],
   "source": []
  },
  {
   "cell_type": "code",
   "execution_count": null,
   "id": "52892524-f537-4921-bc0c-3510710a870c",
   "metadata": {},
   "outputs": [],
   "source": []
  },
  {
   "cell_type": "code",
   "execution_count": null,
   "id": "a177883a-ab8d-4f2c-9cfe-82f008703d6a",
   "metadata": {},
   "outputs": [],
   "source": []
  }
 ],
 "metadata": {
  "kernelspec": {
   "display_name": "Python 3 (ipykernel)",
   "language": "python",
   "name": "python3"
  },
  "language_info": {
   "codemirror_mode": {
    "name": "ipython",
    "version": 3
   },
   "file_extension": ".py",
   "mimetype": "text/x-python",
   "name": "python",
   "nbconvert_exporter": "python",
   "pygments_lexer": "ipython3",
   "version": "3.12.4"
  }
 },
 "nbformat": 4,
 "nbformat_minor": 5
}
