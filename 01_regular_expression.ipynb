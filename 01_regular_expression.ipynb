{
 "cells": [
  {
   "cell_type": "code",
   "execution_count": 1,
   "id": "35b7dee8-2869-4c8d-86ce-009213c6fa68",
   "metadata": {},
   "outputs": [],
   "source": [
    "import re"
   ]
  },
  {
   "cell_type": "code",
   "execution_count": 3,
   "id": "7f8a230d-df05-41e2-8fd0-3ecd34bff312",
   "metadata": {},
   "outputs": [],
   "source": [
    "chat1='codebasic:you ask lot questions 1234567890,abc@xyz.com'\n",
    "chat2='codebasic:here it is :(123)-567-8912,abc@xyz.com'\n",
    "chat3='codebasic:yes,phone:1235678921 email:abc@xyz.com'"
   ]
  },
  {
   "cell_type": "code",
   "execution_count": 33,
   "id": "74ce4fef-718c-4d6f-9dcf-ee17af6de8c9",
   "metadata": {},
   "outputs": [
    {
     "name": "stdout",
     "output_type": "stream",
     "text": [
      "['1234567890']\n"
     ]
    }
   ],
   "source": [
    "pattern = '\\\\d{10}'\n",
    "matches = re.findall(pattern, chat1)\n",
    "print(matches)"
   ]
  },
  {
   "cell_type": "code",
   "execution_count": 41,
   "id": "384a5e71-9432-4f01-b630-c9e484c7d7f9",
   "metadata": {},
   "outputs": [
    {
     "name": "stdout",
     "output_type": "stream",
     "text": [
      "['(123)-567-8912']\n"
     ]
    }
   ],
   "source": [
    "pattern='\\\\(\\\\d{3}\\\\)-\\\\d{3}-\\\\d{4}|\\\\d{10}'\n",
    "matches=re.findall(pattern,chat2)\n",
    "print(matches)"
   ]
  },
  {
   "cell_type": "code",
   "execution_count": 59,
   "id": "2fec6cf1-a475-4821-a304-1287611c6b74",
   "metadata": {},
   "outputs": [],
   "source": [
    "email1='email1:abc123@xyz.com'\n",
    "email2='jane_doe88@abc.net'\n",
    "email3='john.smith@company.org'\n",
    "email4='support@services.co'\n",
    "email5='randomuser987@tempmail.com'\n",
    "email6='user.name@mywebsite.info'\n",
    "email7='admin123@company.xyz'\n",
    "email8='coolguy2020@hotmail.com'\n",
    "email9='customer.care@shoponline.com'\n",
    "email10='student99@university.edu'\n"
   ]
  },
  {
   "cell_type": "code",
   "execution_count": 67,
   "id": "da5ba365-25f1-4330-abac-a03008be8757",
   "metadata": {},
   "outputs": [
    {
     "name": "stdout",
     "output_type": "stream",
     "text": [
      "['jane_doe88@abc.net']\n"
     ]
    }
   ],
   "source": [
    "pattern='[a-z_.0-9]+\\\\@[a-z0-9]+\\\\.[a-z]*'\n",
    "matches=re.findall(pattern,email2)\n",
    "print(matches)"
   ]
  },
  {
   "cell_type": "code",
   "execution_count": 69,
   "id": "7dce6e70-06bc-411b-8bf4-44799e5efa6d",
   "metadata": {},
   "outputs": [
    {
     "name": "stdout",
     "output_type": "stream",
     "text": [
      "['customer.care@shoponline.com']\n"
     ]
    }
   ],
   "source": [
    "pattern='[a-z_.0-9]+\\\\@[a-z0-9]+\\\\.[a-z]*'\n",
    "matches=re.findall(pattern,email9)\n",
    "print(matches)"
   ]
  },
  {
   "cell_type": "markdown",
   "id": "f6a1f920-2fe4-447f-92e2-e5341b8d5b23",
   "metadata": {},
   "source": [
    "#### why we do repetedly...lets write function for it"
   ]
  },
  {
   "cell_type": "code",
   "execution_count": 77,
   "id": "3d919771-392f-4eaf-a5a5-a3d683672ee1",
   "metadata": {},
   "outputs": [],
   "source": [
    "def get_pattern_match(pattern,text):\n",
    "    matches=re.findall(pattern,text)\n",
    "    if matches:\n",
    "        return matches[0]"
   ]
  },
  {
   "cell_type": "code",
   "execution_count": 79,
   "id": "f8818733-43ff-483c-ab97-b30d1f673abb",
   "metadata": {},
   "outputs": [
    {
     "data": {
      "text/plain": [
       "'john.smith@company.org'"
      ]
     },
     "execution_count": 79,
     "metadata": {},
     "output_type": "execute_result"
    }
   ],
   "source": [
    "get_pattern_match('[a-z_.0-9]+\\\\@[a-z0-9]+\\\\.[a-z]*',email3)"
   ]
  },
  {
   "cell_type": "code",
   "execution_count": 81,
   "id": "61273089-3b82-41bb-a9fe-b87d94ee2088",
   "metadata": {},
   "outputs": [
    {
     "data": {
      "text/plain": [
       "'user.name@mywebsite.info'"
      ]
     },
     "execution_count": 81,
     "metadata": {},
     "output_type": "execute_result"
    }
   ],
   "source": [
    "get_pattern_match('[a-z_.0-9]+\\\\@[a-z0-9]+\\\\.[a-z]*',email6)"
   ]
  },
  {
   "cell_type": "code",
   "execution_count": 83,
   "id": "445eaa8f-1abb-4f0f-bbb2-658df17d2294",
   "metadata": {},
   "outputs": [
    {
     "data": {
      "text/plain": [
       "'coolguy2020@hotmail.com'"
      ]
     },
     "execution_count": 83,
     "metadata": {},
     "output_type": "execute_result"
    }
   ],
   "source": [
    "get_pattern_match('[a-z_.0-9]+\\\\@[a-z0-9]+\\\\.[a-z]*',email8)"
   ]
  },
  {
   "cell_type": "code",
   "execution_count": 142,
   "id": "3b4135ca-2358-44bd-9a20-7add7e419e91",
   "metadata": {},
   "outputs": [],
   "source": [
    "text1='''\n",
    "For any inquiries, you can reach out to support@company.com for technical help, or if you're looking for general information, \n",
    "contact info@xyz.org. For academic-related questions, you can email prof.jones@university.edu, and students can get assistance through student.\n",
    "help@campus.edu. If you're a customer looking for service, reach out to customer.service@shopnow.com. For media inquiries, \n",
    "you can contact media@newsagency.com, or for partnerships, please email partners@bizsolutions.com. In case of any issues with your account, \n",
    "feel free to get in touch with helpdesk@services.net. If you'd like to speak directly to our admin,\n",
    "send an email to admin@company.org, and for immediate customer support, reach out to supportteam@helpdesk.co.\n",
    "Finally, any other general questions can be sent to contactus@webservice.com\n",
    "'''"
   ]
  },
  {
   "cell_type": "code",
   "execution_count": 146,
   "id": "767fb55d-aa44-4b7f-94af-59605047375a",
   "metadata": {},
   "outputs": [
    {
     "data": {
      "text/plain": [
       "'support@company.com'"
      ]
     },
     "execution_count": 146,
     "metadata": {},
     "output_type": "execute_result"
    }
   ],
   "source": [
    "get_pattern_match('[a-z0-9_.]*\\\\@[a-z0-9_.]*\\\\.[a-z]+',text1)"
   ]
  },
  {
   "cell_type": "markdown",
   "id": "c1a07323-09e0-47e2-9447-175232a09080",
   "metadata": {},
   "source": [
    "#### chatbot Order regex"
   ]
  },
  {
   "cell_type": "code",
   "execution_count": 130,
   "id": "95d225d1-4207-41d6-8dde-3c4bb042d6b5",
   "metadata": {},
   "outputs": [],
   "source": [
    "chat1='codebasics: Hello, I am having an issue with my order # 412889912'\n",
    "chat2='codebasics: I have a problem with my order number 412867912'\n",
    "chat3='codebasics: My order 412889912 is having an issue, I was charged 300$ when online it says 280$'\n"
   ]
  },
  {
   "cell_type": "code",
   "execution_count": 132,
   "id": "919e1c7c-32b9-437b-8238-49f0aba1e1c3",
   "metadata": {},
   "outputs": [
    {
     "data": {
      "text/plain": [
       "'412889912'"
      ]
     },
     "execution_count": 132,
     "metadata": {},
     "output_type": "execute_result"
    }
   ],
   "source": [
    "get_pattern_match('order[^\\\\d]*(\\\\d*)',chat1)"
   ]
  },
  {
   "cell_type": "code",
   "execution_count": 134,
   "id": "012f0638-e4ca-453b-bf2e-d52dda139896",
   "metadata": {},
   "outputs": [
    {
     "data": {
      "text/plain": [
       "'412867912'"
      ]
     },
     "execution_count": 134,
     "metadata": {},
     "output_type": "execute_result"
    }
   ],
   "source": [
    "get_pattern_match('order[^\\\\d]*(\\\\d*)',chat2)"
   ]
  },
  {
   "cell_type": "markdown",
   "id": "87be3b4c-ca31-49ce-8473-1e035ef47540",
   "metadata": {},
   "source": [
    "#### Text extraction"
   ]
  },
  {
   "cell_type": "code",
   "execution_count": 154,
   "id": "af9e6e7c-72a2-41ff-a812-43e09095b6b3",
   "metadata": {},
   "outputs": [],
   "source": [
    "text='''\n",
    "Born Elon Reeve Musk\n",
    "June 28, 1971 (age 50)\n",
    "Pretoria, Transvaal, South Africa\n",
    "Citizenship\t\n",
    "South Africa (1971–present)\n",
    "Canada (1971–present)\n",
    "United States (2002–present)\n",
    "Education\tUniversity of Pennsylvania (BS, BA)\n",
    "Title\t\n",
    "Founder, CEO and Chief Engineer of SpaceX\n",
    "CEO and product architect of Tesla, Inc.\n",
    "Founder of The Boring Company and X.com (now part of PayPal)\n",
    "Co-founder of Neuralink, OpenAI, and Zip2\n",
    "Spouse(s)\t\n",
    "Justine Wilson\n",
    "(m. 2000; div. 2008)\n",
    "Talulah Riley\n",
    "(m. 2010; div. 2012)\n",
    "(m. 2013; div. 2016)\n",
    "'''"
   ]
  },
  {
   "cell_type": "code",
   "execution_count": 156,
   "id": "971574d2-f23d-407c-adde-91de373841da",
   "metadata": {},
   "outputs": [
    {
     "name": "stdout",
     "output_type": "stream",
     "text": [
      "['50']\n"
     ]
    }
   ],
   "source": [
    "pattern='age (\\\\d+)'\n",
    "matches=re.findall(pattern,text)\n",
    "print(matches)\n"
   ]
  },
  {
   "cell_type": "code",
   "execution_count": 161,
   "id": "c51b13d0-37d9-4f54-bf08-4ca433952093",
   "metadata": {},
   "outputs": [
    {
     "data": {
      "text/plain": [
       "' Elon Reeve Musk'"
      ]
     },
     "execution_count": 161,
     "metadata": {},
     "output_type": "execute_result"
    }
   ],
   "source": [
    "#name\n",
    "get_pattern_match('Born(.*)',text)"
   ]
  },
  {
   "cell_type": "code",
   "execution_count": 165,
   "id": "e385e447-94af-467e-8da5-1a76ef2117b1",
   "metadata": {},
   "outputs": [
    {
     "data": {
      "text/plain": [
       "'June 28, 1971 '"
      ]
     },
     "execution_count": 165,
     "metadata": {},
     "output_type": "execute_result"
    }
   ],
   "source": [
    "#Born\n",
    "get_pattern_match('Born.*\\\\n(.*)\\\\(',text)"
   ]
  },
  {
   "cell_type": "code",
   "execution_count": 169,
   "id": "217335ef-e162-48a5-bc55-89a6e1b2f41c",
   "metadata": {},
   "outputs": [
    {
     "data": {
      "text/plain": [
       "'Pretoria, Transvaal, South Africa'"
      ]
     },
     "execution_count": 169,
     "metadata": {},
     "output_type": "execute_result"
    }
   ],
   "source": [
    "#location\n",
    "get_pattern_match('Born.*\\n.*\\n(.*)',text)"
   ]
  },
  {
   "cell_type": "code",
   "execution_count": 186,
   "id": "b9b28174-e7d3-48c9-86ca-cd7b4557bc50",
   "metadata": {},
   "outputs": [],
   "source": [
    "def get_personal_information(text):\n",
    "    age=get_pattern_match('age (\\\\d+)',text)\n",
    "    full_name=get_pattern_match('Born(.*)',text)\n",
    "    birth_date=get_pattern_match('Born.*\\\\n(.*)\\\\(',text)\n",
    "    birth_place=get_pattern_match('Born.*\\n.*\\n(.*)',text)\n",
    "\n",
    "    return{\n",
    "    'age': int(age),\n",
    "    'name': full_name.strip(),\n",
    "    'birth_date': birth_date.strip(),\n",
    "    'birth_place':birth_place.strip()\n",
    "}"
   ]
  },
  {
   "cell_type": "code",
   "execution_count": 188,
   "id": "d666f554-5256-4188-845b-0cced8b419b1",
   "metadata": {},
   "outputs": [
    {
     "data": {
      "text/plain": [
       "{'age': 50,\n",
       " 'name': 'Elon Reeve Musk',\n",
       " 'birth_date': 'June 28, 1971',\n",
       " 'birth_place': 'Pretoria, Transvaal, South Africa'}"
      ]
     },
     "execution_count": 188,
     "metadata": {},
     "output_type": "execute_result"
    }
   ],
   "source": [
    "get_personal_information(text)"
   ]
  },
  {
   "cell_type": "code",
   "execution_count": 190,
   "id": "c00e4b5e-fa28-4da5-bd8e-3c2766509905",
   "metadata": {},
   "outputs": [],
   "source": [
    "text2='''\n",
    "Ambani in 2007\n",
    "Born\tMukesh Dhirubhai Ambani\n",
    "19 April 1957 (age 67)\n",
    "Aden, Colony of Aden\n",
    "(present-day Yemen)[1][2]\n",
    "Nationality\tIndian\n",
    "Alma mater\t\n",
    "St. Xavier's College, Mumbai\n",
    "Institute of Chemical Technology (B.E.)\n",
    "Occupation(s)\tChairman and MD, Reliance Industries\n",
    "Spouse\tNita Ambani ​(m. 1985)​[3]\n",
    "Children\t3, including Akash\n",
    "Parents\t\n",
    "Dhirubhai Ambani (father)\n",
    "Kokilaben Ambani (mother)\n",
    "Relatives\tAnil Ambani (brother)\n",
    "Tina Ambani (sister-in-law)\n",
    "'''"
   ]
  },
  {
   "cell_type": "code",
   "execution_count": 192,
   "id": "9474c1be-f59d-4c95-af28-5f76a7cd4879",
   "metadata": {},
   "outputs": [
    {
     "data": {
      "text/plain": [
       "{'age': 67,\n",
       " 'name': 'Mukesh Dhirubhai Ambani',\n",
       " 'birth_date': '19 April 1957',\n",
       " 'birth_place': 'Aden, Colony of Aden'}"
      ]
     },
     "execution_count": 192,
     "metadata": {},
     "output_type": "execute_result"
    }
   ],
   "source": [
    "get_personal_information(text2)"
   ]
  },
  {
   "cell_type": "code",
   "execution_count": null,
   "id": "6e4e7f7a-ee08-46c3-ace0-a64280a6d754",
   "metadata": {},
   "outputs": [],
   "source": []
  },
  {
   "cell_type": "code",
   "execution_count": null,
   "id": "a7cc1861-7e9e-42dc-adb6-d5750e5bc3e0",
   "metadata": {},
   "outputs": [],
   "source": []
  }
 ],
 "metadata": {
  "kernelspec": {
   "display_name": "Python 3 (ipykernel)",
   "language": "python",
   "name": "python3"
  },
  "language_info": {
   "codemirror_mode": {
    "name": "ipython",
    "version": 3
   },
   "file_extension": ".py",
   "mimetype": "text/x-python",
   "name": "python",
   "nbconvert_exporter": "python",
   "pygments_lexer": "ipython3",
   "version": "3.12.4"
  }
 },
 "nbformat": 4,
 "nbformat_minor": 5
}
