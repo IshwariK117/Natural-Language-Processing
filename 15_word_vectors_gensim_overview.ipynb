{
 "cells": [
  {
   "cell_type": "markdown",
   "id": "eeb074c0-6950-4bde-a06b-dbc8e9b07121",
   "metadata": {},
   "source": [
    "- All gensim models are listed on this page: https://github.com/RaRe-Technologies/gensim-data"
   ]
  },
  {
   "cell_type": "code",
   "execution_count": null,
   "id": "6cd78d81-80e6-4af4-8fdd-d4b2c2b4039c",
   "metadata": {},
   "outputs": [],
   "source": [
    "import gensim.downloader as api\n",
    "# This is a huge model (~1.6 gb) and it will take some time to load\n",
    "\n",
    "wv = api.load('word2vec-google-news-300')"
   ]
  },
  {
   "cell_type": "code",
   "execution_count": null,
   "id": "bfa5c313-9ab4-47ba-bfc4-8a873351d00a",
   "metadata": {},
   "outputs": [],
   "source": [
    "wv.similarity(w1=\"great\", w2=\"good\")"
   ]
  },
  {
   "cell_type": "code",
   "execution_count": null,
   "id": "220d367f-b948-4104-b290-562a3f361cae",
   "metadata": {},
   "outputs": [],
   "source": [
    "wv.most_similar(\"good\")"
   ]
  },
  {
   "cell_type": "code",
   "execution_count": null,
   "id": "7ab9b495-b23e-4423-be14-9ef951def98b",
   "metadata": {},
   "outputs": [],
   "source": [
    "wv.most_similar(\"dog\")"
   ]
  },
  {
   "cell_type": "code",
   "execution_count": null,
   "id": "9a04f83a-ef11-43c6-aad1-9ca2f25c6c0d",
   "metadata": {},
   "outputs": [],
   "source": [
    "wv.most_similar(positive=['king', 'woman'], negative=['man'], topn=5)"
   ]
  },
  {
   "cell_type": "code",
   "execution_count": null,
   "id": "ae63155a-d5ab-40cd-95cf-c3103b1bb5f2",
   "metadata": {},
   "outputs": [],
   "source": [
    "wv.most_similar(positive=['france', 'berlin'], negative=['paris'], topn=5)"
   ]
  },
  {
   "cell_type": "code",
   "execution_count": null,
   "id": "f53b474f-a87d-40b3-bd95-b1e006aa9343",
   "metadata": {},
   "outputs": [],
   "source": [
    "wv.doesnt_match([\"facebook\", \"cat\", \"google\", \"microsoft\"])"
   ]
  },
  {
   "cell_type": "code",
   "execution_count": null,
   "id": "769447a7-2324-4498-a9fa-12cb4daac041",
   "metadata": {},
   "outputs": [],
   "source": [
    "wv.doesnt_match([\"dog\", \"cat\", \"google\", \"mouse\"])"
   ]
  },
  {
   "cell_type": "markdown",
   "id": "b7e3ce94-d1cb-4d44-a5f6-c5c74797e7c2",
   "metadata": {},
   "source": [
    "#### Gensim: Glove\n",
    "- Stanford's page on GloVe: https://nlp.stanford.edu/projects/glove/\n"
   ]
  },
  {
   "cell_type": "code",
   "execution_count": null,
   "id": "616ce942-24e9-4673-98e7-d19fa03fc2a5",
   "metadata": {},
   "outputs": [],
   "source": [
    "\n",
    "glv = api.load(\"glove-twitter-25\")\n",
    "glv.most_similar(\"good\")"
   ]
  },
  {
   "cell_type": "code",
   "execution_count": null,
   "id": "9619bbc6-43a7-420b-abff-7122a4661bec",
   "metadata": {},
   "outputs": [],
   "source": [
    "glv.doesnt_match(\"breakfast cereal dinner lunch\".split())\n"
   ]
  },
  {
   "cell_type": "code",
   "execution_count": null,
   "id": "ad662137-d610-4578-bd97-e560a3d15d76",
   "metadata": {},
   "outputs": [],
   "source": [
    "glv.doesnt_match(\"facebook cat google microsoft\".split())"
   ]
  },
  {
   "cell_type": "code",
   "execution_count": null,
   "id": "8748e6ab-9d5e-474d-af57-451ee70320e1",
   "metadata": {},
   "outputs": [],
   "source": [
    "\n",
    "glv.doesnt_match(\"banana grapes orange human\".split())"
   ]
  },
  {
   "cell_type": "code",
   "execution_count": null,
   "id": "3b6d784a-33d6-462f-a29a-cb52cb4059f7",
   "metadata": {},
   "outputs": [],
   "source": []
  }
 ],
 "metadata": {
  "kernelspec": {
   "display_name": "Python 3 (ipykernel)",
   "language": "python",
   "name": "python3"
  },
  "language_info": {
   "codemirror_mode": {
    "name": "ipython",
    "version": 3
   },
   "file_extension": ".py",
   "mimetype": "text/x-python",
   "name": "python",
   "nbconvert_exporter": "python",
   "pygments_lexer": "ipython3",
   "version": "3.12.4"
  }
 },
 "nbformat": 4,
 "nbformat_minor": 5
}
