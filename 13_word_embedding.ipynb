{
 "cells": [
  {
   "cell_type": "markdown",
   "id": "f67e1c42-d639-43c7-8a40-7a574829da34",
   "metadata": {},
   "source": [
    "- python -m spacy download en_core_web_lg\n",
    "- pip install --upgrade spacy"
   ]
  },
  {
   "cell_type": "code",
   "execution_count": 11,
   "id": "8fe0eb6d-61ab-41eb-bdfd-f3b2c37df505",
   "metadata": {},
   "outputs": [],
   "source": [
    "\n",
    "import spacy\n",
    "nlp=spacy.load('en_core_web_lg')\n"
   ]
  },
  {
   "cell_type": "code",
   "execution_count": 12,
   "id": "0b68b4fe-ebd8-42d9-a26b-253e0fb6462d",
   "metadata": {},
   "outputs": [
    {
     "name": "stdout",
     "output_type": "stream",
     "text": [
      "dog True OOV: False\n",
      "cat True OOV: False\n",
      "banana True OOV: False\n",
      "ken True OOV: False\n"
     ]
    }
   ],
   "source": [
    "doc=nlp(\"dog cat banana ken\")\n",
    "\n",
    "for token in doc:\n",
    "    print(token.text,token.has_vector,\"OOV:\",token.is_oov)\n",
    "#OOV:Out of Vocabulary\n"
   ]
  },
  {
   "cell_type": "code",
   "execution_count": 13,
   "id": "6107b348-6090-4698-80bc-a9857ac007a5",
   "metadata": {},
   "outputs": [
    {
     "data": {
      "text/plain": [
       "(300,)"
      ]
     },
     "execution_count": 13,
     "metadata": {},
     "output_type": "execute_result"
    }
   ],
   "source": [
    "doc[0].vector.shape"
   ]
  },
  {
   "cell_type": "code",
   "execution_count": 17,
   "id": "a688f297-ced5-4b34-b7ca-b1496fbf29f7",
   "metadata": {},
   "outputs": [
    {
     "data": {
      "text/plain": [
       "(300,)"
      ]
     },
     "execution_count": 17,
     "metadata": {},
     "output_type": "execute_result"
    }
   ],
   "source": [
    "base_token=nlp(\"bread\")\n",
    "base_token.vector.shape"
   ]
  },
  {
   "cell_type": "code",
   "execution_count": 31,
   "id": "f71e0343-1a0c-4638-83b6-c14de26267a0",
   "metadata": {},
   "outputs": [
    {
     "name": "stdout",
     "output_type": "stream",
     "text": [
      "sandwich <-> human: -0.04297160729765892\n",
      "burger <-> human: -0.012447251938283443\n",
      "car <-> human: -0.07851903140544891\n",
      "tiger <-> human: 0.19156311452388763\n",
      "human <-> human: 1.0\n",
      "wheat <-> human: 0.18107637763023376\n"
     ]
    }
   ],
   "source": [
    "doc = nlp(\"sandwich burger car tiger human wheat\")\n",
    "base_token = nlp(\"human\")[0]  # Define base token as 'human'\n",
    "\n",
    "for token in doc:\n",
    "    print(f\"{token.text} <-> {base_token.text}: {token.similarity(base_token)}\")\n"
   ]
  },
  {
   "cell_type": "code",
   "execution_count": 33,
   "id": "898fa537-ebde-469e-aed0-4cee7356702f",
   "metadata": {},
   "outputs": [],
   "source": [
    "def print_similarity(base_word, words_to_compare):\n",
    "    base_token = nlp(base_word)\n",
    "    doc = nlp(words_to_compare)\n",
    "    for token in doc:\n",
    "        print(f\"{token.text} <-> {base_token.text}: \", token.similarity(base_token))"
   ]
  },
  {
   "cell_type": "code",
   "execution_count": 35,
   "id": "eb703d30-ca64-4494-9d9f-348a05d2eaa3",
   "metadata": {},
   "outputs": [
    {
     "name": "stdout",
     "output_type": "stream",
     "text": [
      "apple <-> iphone:  0.4387907748060368\n",
      "samsung <-> iphone:  0.6708590303423401\n",
      "iphone <-> iphone:  0.9999999983096304\n",
      "dog <-> iphone:  0.08211864228011527\n",
      "kitten <-> iphone:  0.10222318459666081\n"
     ]
    }
   ],
   "source": [
    "print_similarity(\"iphone\", \"apple samsung iphone dog kitten\")"
   ]
  },
  {
   "cell_type": "code",
   "execution_count": 37,
   "id": "077480a6-855f-48b5-83f8-75ff55e9d000",
   "metadata": {},
   "outputs": [],
   "source": [
    "king = nlp.vocab[\"king\"].vector\n",
    "man = nlp.vocab[\"man\"].vector\n",
    "woman = nlp.vocab[\"woman\"].vector\n",
    "queen = nlp.vocab[\"queen\"].vector\n",
    "\n",
    "result = king - man + woman"
   ]
  },
  {
   "cell_type": "code",
   "execution_count": 39,
   "id": "bbb66984-f761-46e2-8166-0367904eaabf",
   "metadata": {},
   "outputs": [
    {
     "data": {
      "text/plain": [
       "array([[0.6178014]], dtype=float32)"
      ]
     },
     "execution_count": 39,
     "metadata": {},
     "output_type": "execute_result"
    }
   ],
   "source": [
    "from sklearn.metrics.pairwise import cosine_similarity\n",
    "\n",
    "cosine_similarity([result], [queen])"
   ]
  }
 ],
 "metadata": {
  "kernelspec": {
   "display_name": "Python 3 (ipykernel)",
   "language": "python",
   "name": "python3"
  },
  "language_info": {
   "codemirror_mode": {
    "name": "ipython",
    "version": 3
   },
   "file_extension": ".py",
   "mimetype": "text/x-python",
   "name": "python",
   "nbconvert_exporter": "python",
   "pygments_lexer": "ipython3",
   "version": "3.12.4"
  }
 },
 "nbformat": 4,
 "nbformat_minor": 5
}
